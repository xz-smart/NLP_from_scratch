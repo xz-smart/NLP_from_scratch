{
 "cells": [
  {
   "cell_type": "code",
   "execution_count": 2,
   "id": "95738f0e",
   "metadata": {},
   "outputs": [],
   "source": [
    "import numpy as np\n",
    "import pandas as pd\n",
    "import seaborn as sns\n",
    "import string\n",
    "import matplotlib.pyplot as plt\n",
    "import sklearn\n",
    "import os\n",
    "from text_processor import TextProcessor\n",
    "import utils"
   ]
  },
  {
   "cell_type": "markdown",
   "id": "08750494",
   "metadata": {},
   "source": [
    "# Load data"
   ]
  },
  {
   "cell_type": "code",
   "execution_count": 4,
   "id": "69b1c4b4",
   "metadata": {},
   "outputs": [],
   "source": [
    "df = pd.read_csv(\"sampled_toy_data.csv\")"
   ]
  },
  {
   "cell_type": "code",
   "execution_count": 6,
   "id": "63136c3a",
   "metadata": {},
   "outputs": [
    {
     "data": {
      "text/plain": [
       "<AxesSubplot:xlabel='targets', ylabel='Count'>"
      ]
     },
     "execution_count": 6,
     "metadata": {},
     "output_type": "execute_result"
    },
    {
     "data": {
      "image/png": "[encoded data removed]",
      "text/plain": [
       "<Figure size 432x288 with 1 Axes>"
      ]
     },
     "metadata": {
      "needs_background": "light"
     },
     "output_type": "display_data"
    }
   ],
   "source": [
    "sns.histplot(df, x = \"targets\", binwidth = 0.2)"
   ]
  },
  {
   "cell_type": "markdown",
   "id": "3f362965",
   "metadata": {},
   "source": [
    "# Train and test data split"
   ]
  },
  {
   "cell_type": "code",
   "execution_count": 7,
   "id": "b845eb7d",
   "metadata": {},
   "outputs": [],
   "source": [
    "df_train = df.sample(frac = 0.8, random_state = 1)\n",
    "df_valid = df[~df.id.isin(df_train.id)]\n",
    "df_test = df_valid.sample(frac = 0.5, random_state = 1)\n",
    "df_valid = df_valid[~df_valid.id.isin(df_test.id)]"
   ]
  },
  {
   "cell_type": "markdown",
   "id": "c8dddecc",
   "metadata": {},
   "source": [
    "# Data preprocessing"
   ]
  },
  {
   "cell_type": "code",
   "execution_count": 8,
   "id": "d6183630",
   "metadata": {},
   "outputs": [],
   "source": [
    "text_processer = TextProcessor()\n",
    "df_cleaned_text = df_train.copy()\n",
    "df_cleaned_text['text'] = df_cleaned_text.text.apply(lambda x: text_processer.clean(x))"
   ]
  },
  {
   "cell_type": "code",
   "execution_count": 14,
   "id": "ef333cca",
   "metadata": {},
   "outputs": [],
   "source": [
    "pos_words = np.concatenate(df_cleaned_text[df_cleaned_text.targets == 1].text.values).ravel()\n",
    "neg_words = np.concatenate(df_cleaned_text[df_cleaned_text.targets == 0].text.values).ravel()\n",
    "total_words = np.concatenate(df_cleaned_text.text.values).ravel()\n",
    "num_total_words = len(set(total_words))\n",
    "num_pos_words = len(pos_words)\n",
    "num_neg_words = len(neg_words)"
   ]
  },
  {
   "cell_type": "code",
   "execution_count": 10,
   "id": "65c3359c",
   "metadata": {},
   "outputs": [],
   "source": [
    "pos_dict = utils.create_dict(pos_words)\n",
    "neg_dict = utils.create_dict(neg_words)"
   ]
  },
  {
   "cell_type": "code",
   "execution_count": 18,
   "id": "537724f4",
   "metadata": {},
   "outputs": [],
   "source": [
    "def compute_lambda(text, pos_dict, neg_dict, num_total_words, num_pos_words, num_neg_words):\n",
    "    lambda_ = 0\n",
    "    denominator_pos = num_total_words + num_pos_words\n",
    "    denominator_neg = num_total_words + num_neg_words\n",
    "    for word in text:\n",
    "        prob_pos = 0\n",
    "        prob_neg = 0\n",
    "        if word in pos_dict:\n",
    "            prob_pos = pos_dict[word]\n",
    "        if word in neg_dict:\n",
    "            prob_neg = neg_dict[word]\n",
    "        prob_pos = (prob_pos + 1) / denominator_pos\n",
    "        prob_neg = (prob_neg + 1) / denominator_neg\n",
    "        lambda_ += np.log(prob_pos/prob_neg)\n",
    "    priolog = np.log(num_pos_words/num_neg_words)\n",
    "    \n",
    "    return lambda_+priolog\n",
    "        "
   ]
  },
  {
   "cell_type": "code",
   "execution_count": 19,
   "id": "ffb19ee8",
   "metadata": {},
   "outputs": [],
   "source": [
    "df_test[\"pred\"] = df_test[\"text\"].apply(lambda x: compute_lambda(x, pos_dict, neg_dict, num_total_words, num_pos_words, num_neg_words))"
   ]
  },
  {
   "cell_type": "code",
   "execution_count": 22,
   "id": "9b71e2ee",
   "metadata": {},
   "outputs": [],
   "source": [
    "df_test[\"pred_targets\"] = df_test[\"pred\"] > 0"
   ]
  },
  {
   "cell_type": "markdown",
   "id": "7ec2b04a",
   "metadata": {},
   "source": [
    "# performance on test data"
   ]
  },
  {
   "cell_type": "code",
   "execution_count": 48,
   "id": "11772ac7",
   "metadata": {},
   "outputs": [
    {
     "name": "stdout",
     "output_type": "stream",
     "text": [
      "The brush isn't really soft and the aplication isn't really even  Oh well, I will work it out. At least the product is great! \n",
      " 0 \n",
      " -4.570535097710229\n"
     ]
    }
   ],
   "source": [
    "i = 1011\n",
    "print(df_test.text.iloc[i], '\\n', df_test.targets.iloc[i], '\\n', df_test.pred.iloc[i])"
   ]
  },
  {
   "cell_type": "code",
   "execution_count": 28,
   "id": "f1d2c610",
   "metadata": {},
   "outputs": [
    {
     "data": {
      "text/plain": [
       "0.514316079019755"
      ]
     },
     "execution_count": 28,
     "metadata": {},
     "output_type": "execute_result"
    }
   ],
   "source": [
    "(df_test.pred_targets.values == df_test.targets.values).sum()/len(df_test.targets.values)"
   ]
  },
  {
   "cell_type": "code",
   "execution_count": 29,
   "id": "545ff40b",
   "metadata": {},
   "outputs": [],
   "source": [
    "df_train[\"pred\"] = df_train[\"text\"].apply(lambda x: compute_lambda(x, pos_dict, neg_dict, num_total_words, num_pos_words, num_neg_words))"
   ]
  },
  {
   "cell_type": "code",
   "execution_count": 30,
   "id": "e98938e0",
   "metadata": {},
   "outputs": [],
   "source": [
    "df_train[\"pred_targets\"] = df_train[\"pred\"] > 0"
   ]
  },
  {
   "cell_type": "code",
   "execution_count": 31,
   "id": "2e6649a9",
   "metadata": {},
   "outputs": [
    {
     "data": {
      "text/plain": [
       "0.516296875"
      ]
     },
     "execution_count": 31,
     "metadata": {},
     "output_type": "execute_result"
    }
   ],
   "source": [
    "(df_train.pred_targets.values == df_train.targets.values).sum()/len(df_train.targets.values)"
   ]
  },
  {
   "cell_type": "code",
   "execution_count": null,
   "id": "ba05876c",
   "metadata": {},
   "outputs": [],
   "source": []
  }
 ],
 "metadata": {
  "kernelspec": {
   "display_name": "Python 3 (ipykernel)",
   "language": "python",
   "name": "python3"
  },
  "language_info": {
   "codemirror_mode": {
    "name": "ipython",
    "version": 3
   },
   "file_extension": ".py",
   "mimetype": "text/x-python",
   "name": "python",
   "nbconvert_exporter": "python",
   "pygments_lexer": "ipython3",
   "version": "3.9.7"
  }
 },
 "nbformat": 4,
 "nbformat_minor": 5
}
