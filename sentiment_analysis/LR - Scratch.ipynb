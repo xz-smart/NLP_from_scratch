{
 "cells": [
  {
   "cell_type": "code",
   "execution_count": 2,
   "id": "8f7f904e",
   "metadata": {},
   "outputs": [
    {
     "name": "stderr",
     "output_type": "stream",
     "text": [
      "[nltk_data] Downloading package stopwords to /home/xz/nltk_data...\n",
      "[nltk_data]   Package stopwords is already up-to-date!\n",
      "[nltk_data] Downloading package punkt to /home/xz/nltk_data...\n",
      "[nltk_data]   Package punkt is already up-to-date!\n",
      "[nltk_data] Downloading package wordnet to /home/xz/nltk_data...\n",
      "[nltk_data]   Package wordnet is already up-to-date!\n",
      "[nltk_data] Downloading package omw-1.4 to /home/xz/nltk_data...\n",
      "[nltk_data]   Package omw-1.4 is already up-to-date!\n"
     ]
    },
    {
     "data": {
      "text/plain": [
       "True"
      ]
     },
     "execution_count": 2,
     "metadata": {},
     "output_type": "execute_result"
    }
   ],
   "source": [
    "import numpy as np\n",
    "import pandas as pd\n",
    "import seaborn as sns\n",
    "import nltk\n",
    "import string\n",
    "import matplotlib.pyplot as plt\n",
    "import sklearn\n",
    "nltk.download('stopwords')\n",
    "nltk.download('punkt')\n",
    "nltk.download('wordnet')\n",
    "nltk.download('omw-1.4')"
   ]
  },
  {
   "cell_type": "markdown",
   "id": "b78be6a3",
   "metadata": {},
   "source": [
    "# Data exploration"
   ]
  },
  {
   "cell_type": "code",
   "execution_count": 10,
   "id": "9116eec2",
   "metadata": {},
   "outputs": [],
   "source": [
    "# !mkdir -p data\n",
    "# !wget -nc https://nyc3.digitaloceanspaces.com/ml-files-distro/v1/sentiment-analysis-is-bad/data/training.1600000.processed.noemoticon.csv.zip -P data\n",
    "# !unzip -n -d data data/training.1600000.processed.noemoticon.csv.zip"
   ]
  },
  {
   "cell_type": "code",
   "execution_count": 3,
   "id": "870e9489",
   "metadata": {},
   "outputs": [],
   "source": [
    "df = pd.read_csv(\"data/training.1600000.processed.noemoticon.csv\",\n",
    "                names=['targets', 'id', 'date', 'query', 'user', 'text'],\n",
    "                encoding='latin-1')"
   ]
  },
  {
   "cell_type": "code",
   "execution_count": 4,
   "id": "d98e5dcf",
   "metadata": {},
   "outputs": [],
   "source": [
    "df.targets.replace(4, 1, inplace=True)"
   ]
  },
  {
   "cell_type": "code",
   "execution_count": 5,
   "id": "6c44dce3",
   "metadata": {},
   "outputs": [],
   "source": [
    "df_sample = df.sample(frac=0.1, random_state=1)"
   ]
  },
  {
   "cell_type": "code",
   "execution_count": 6,
   "id": "9cf9b2eb",
   "metadata": {},
   "outputs": [
    {
     "data": {
      "text/plain": [
       "<AxesSubplot:xlabel='targets', ylabel='Count'>"
      ]
     },
     "execution_count": 6,
     "metadata": {},
     "output_type": "execute_result"
    },
    {
     "data": {
      "image/png": "[encoded data removed]",
      "text/plain": [
       "<Figure size 432x288 with 1 Axes>"
      ]
     },
     "metadata": {
      "needs_background": "light"
     },
     "output_type": "display_data"
    }
   ],
   "source": [
    "sns.histplot(df_sample, x='targets', binwidth = 0.2)"
   ]
  },
  {
   "cell_type": "markdown",
   "id": "f28f029c",
   "metadata": {},
   "source": [
    "# Train test split"
   ]
  },
  {
   "cell_type": "code",
   "execution_count": 7,
   "id": "9ec1f89f",
   "metadata": {},
   "outputs": [],
   "source": [
    "df_train = df_sample.sample(frac = 0.8, random_state = 1)\n",
    "df_valid = df_sample[~df_sample.id.isin(df_train.id)]\n",
    "df_test = df_valid.sample(frac = 0.5, random_state = 1)\n",
    "df_valid = df_valid[~df_valid.id.isin(df_test.id)]"
   ]
  },
  {
   "cell_type": "markdown",
   "id": "d4f083e1",
   "metadata": {},
   "source": [
    "# Data preprocessing\n",
    "* Eliminate handles and URLs\n",
    "\n",
    "* Tokenize the string into words.\n",
    "\n",
    "* Remove stop words like \"and, is, a, on, etc.\"\n",
    "\n",
    "* Stemming- or convert every word to its stem. Like dancer, dancing, danced, becomes 'danc'. You can use porter stemmer to take care of this.\n",
    "\n",
    "* Convert all your words to lower case."
   ]
  },
  {
   "cell_type": "code",
   "execution_count": 8,
   "id": "cb382818",
   "metadata": {},
   "outputs": [],
   "source": [
    "class TextProcesser():\n",
    "    def __init__(self,):\n",
    "        self.lem = nltk.stem.wordnet.WordNetLemmatizer() \n",
    "        self.stem = nltk.stem.porter.PorterStemmer()\n",
    "        self.stop_words = set(nltk.corpus.stopwords.words(\"english\"))\n",
    "        self.punctuations = list(string.punctuation)\n",
    "    def clean(self, text):\n",
    "        \"\"\"\n",
    "        tokenize a paragraph of text\n",
    "        remove the handles, URL, stop words\n",
    "        stem and lemmatize the words\n",
    "        convert words into lower cases\n",
    "        \"\"\"\n",
    "        tokens=nltk.tokenize.word_tokenize(text)\n",
    "        output = []\n",
    "        for token in tokens:\n",
    "            if (token not in self.stop_words) and (\"@\" not in token) and (\"//\" not in token) and (token not in self.punctuations):\n",
    "                \n",
    "                output.append(self.lem.lemmatize(self.stem.stem(token)).lower())\n",
    "        return output"
   ]
  },
  {
   "cell_type": "code",
   "execution_count": 9,
   "id": "dad44722",
   "metadata": {},
   "outputs": [],
   "source": [
    "text_processer = TextProcesser()"
   ]
  },
  {
   "cell_type": "code",
   "execution_count": 10,
   "id": "d5b8e29c",
   "metadata": {},
   "outputs": [],
   "source": [
    "df_cleaned_text = df_train.copy()\n",
    "df_cleaned_text['text'] = df_cleaned_text.text.apply(lambda x: text_processer.clean(x))"
   ]
  },
  {
   "cell_type": "code",
   "execution_count": 11,
   "id": "f2f5da54",
   "metadata": {},
   "outputs": [],
   "source": [
    "pos_words = np.concatenate(df_cleaned_text[df_cleaned_text.targets == 1].text.values).ravel()\n",
    "neg_words = np.concatenate(df_cleaned_text[df_cleaned_text.targets == 0].text.values).ravel()"
   ]
  },
  {
   "cell_type": "code",
   "execution_count": 12,
   "id": "91be3bfb",
   "metadata": {},
   "outputs": [],
   "source": [
    "def create_dict(words):\n",
    "    \"\"\"\n",
    "    calculate the frequency of words in a list of words\n",
    "    input: a list of words\n",
    "    output: dict, key: word; value: frequency\n",
    "    \"\"\"\n",
    "    output = {}\n",
    "    for word in words:\n",
    "        if word in output:\n",
    "            output[word] += 1\n",
    "        else:\n",
    "            output[word] = 1\n",
    "    return output"
   ]
  },
  {
   "cell_type": "code",
   "execution_count": 13,
   "id": "13ed62d2",
   "metadata": {},
   "outputs": [],
   "source": [
    "pos_dict = create_dict(pos_words)\n",
    "neg_dict = create_dict(neg_words)"
   ]
  },
  {
   "cell_type": "code",
   "execution_count": 14,
   "id": "9ffd00ae",
   "metadata": {},
   "outputs": [],
   "source": [
    "def sum_freq(text, pos_dict, neg_dict):\n",
    "    \"\"\"\n",
    "    count the frequency of positive and negtive words\n",
    "    \"\"\"\n",
    "    pos_freq, neg_freq = 0, 0\n",
    "    \n",
    "    for word in text:\n",
    "        if word in pos_dict:\n",
    "            pos_freq += pos_dict[word]\n",
    "        if word in neg_dict:\n",
    "            neg_freq += neg_dict[word]\n",
    "    return [1, pos_freq, neg_freq]"
   ]
  },
  {
   "cell_type": "code",
   "execution_count": 15,
   "id": "95feca22",
   "metadata": {},
   "outputs": [],
   "source": [
    "df_cleaned_text[\"vector\"] = df_cleaned_text.text.apply(lambda x: sum_freq(x, pos_dict, neg_dict))\n",
    "df_valid[\"vector\"] = df_valid.text.apply(lambda x: sum_freq(x, pos_dict, neg_dict))\n",
    "df_test[\"vector\"] = df_test.text.apply(lambda x: sum_freq(x, pos_dict, neg_dict))"
   ]
  },
  {
   "cell_type": "code",
   "execution_count": 76,
   "id": "c1098f70",
   "metadata": {},
   "outputs": [],
   "source": [
    "X_train, y_train = np.stack(df_cleaned_text.vector, axis = 0), np.array(df_cleaned_text.targets)\n",
    "X_valid, y_valid = np.stack(df_valid.vector, axis = 0), np.array(df_valid.targets)\n",
    "X_test, y_test = np.stack(df_test.vector, axis = 0), np.array(df_test.targets)"
   ]
  },
  {
   "cell_type": "markdown",
   "id": "b0c290f0",
   "metadata": {},
   "source": [
    "# Benchmark"
   ]
  },
  {
   "cell_type": "code",
   "execution_count": 95,
   "id": "57e2dd2e",
   "metadata": {},
   "outputs": [
    {
     "data": {
      "text/plain": [
       "0.67565625"
      ]
     },
     "execution_count": 95,
     "metadata": {},
     "output_type": "execute_result"
    }
   ],
   "source": [
    "model_baseline = sklearn.linear_model.LogisticRegression()\n",
    "clf = model_baseline.fit(X_train, y_train)\n",
    "clf.score(X_train, y_train)"
   ]
  },
  {
   "cell_type": "markdown",
   "id": "0e744877",
   "metadata": {},
   "source": [
    "# Logistic regression"
   ]
  },
  {
   "cell_type": "code",
   "execution_count": 48,
   "id": "bcb98982",
   "metadata": {},
   "outputs": [],
   "source": [
    "class LogisticRegression():\n",
    "    def compute_loss(self, y_hat, y):\n",
    "        \"binary cross entropy loss\"\n",
    "        epsilon = 1e-15\n",
    "        loss = -1 * np.dot(y, np.log(y_hat + epsilon)) - np.dot((1 - y), np.log(1 - y_hat + epsilon))\n",
    "        return np.mean(loss)\n",
    "    \n",
    "    def sigmoid(self, w, x):\n",
    "        z = 1 / (1 + np.exp(-1 * np.dot(x, w)))\n",
    "        return z\n",
    "    \n",
    "    def predict(self, y):\n",
    "        if y > 0.5:\n",
    "            return 1\n",
    "        else:\n",
    "            return 0"
   ]
  },
  {
   "cell_type": "code",
   "execution_count": 137,
   "id": "bbecc7a4",
   "metadata": {},
   "outputs": [
    {
     "name": "stdout",
     "output_type": "stream",
     "text": [
      "train accuracy: 0.50009375\n",
      "loss on valid data: 17.418121346889368, accuracy on valid data: 0.49424856214053514 \n",
      "\n",
      "train accuracy: 0.49990625\n",
      "loss on valid data: 17.029610602156332, accuracy on valid data: 0.505501375343836 \n",
      "\n",
      "train accuracy: 0.50009375\n",
      "loss on valid data: 17.418121369398026, accuracy on valid data: 0.49424856214053514 \n",
      "\n",
      "train accuracy: 0.49990625\n",
      "loss on valid data: 17.029610685249075, accuracy on valid data: 0.505501375343836 \n",
      "\n",
      "train accuracy: 0.50009375\n",
      "loss on valid data: 17.418121391928235, accuracy on valid data: 0.49424856214053514 \n",
      "\n",
      "train accuracy: 0.49990625\n",
      "loss on valid data: 17.0296107683602, accuracy on valid data: 0.505501375343836 \n",
      "\n",
      "train accuracy: 0.50009375\n",
      "loss on valid data: 17.418121414480005, accuracy on valid data: 0.49424856214053514 \n",
      "\n",
      "train accuracy: 0.49990625\n",
      "loss on valid data: 17.02961085148971, accuracy on valid data: 0.505501375343836 \n",
      "\n",
      "train accuracy: 0.568609375\n",
      "loss on valid data: 17.418137248094023, accuracy on valid data: 0.49424856214053514 \n",
      "\n",
      "train accuracy: 0.49990625\n",
      "loss on valid data: 17.418318279950526, accuracy on valid data: 0.49424856214053514 \n",
      "\n",
      "train accuracy: 0.5314921875\n",
      "loss on valid data: 17.029968945551158, accuracy on valid data: 0.505501375343836 \n",
      "\n",
      "train accuracy: 0.50009375\n",
      "loss on valid data: 17.41830037126905, accuracy on valid data: 0.49424856214053514 \n",
      "\n",
      "train accuracy: 0.502703125\n",
      "loss on valid data: 17.029966853368, accuracy on valid data: 0.505501375343836 \n",
      "\n",
      "train accuracy: 0.50009375\n",
      "loss on valid data: 17.418299047333, accuracy on valid data: 0.49424856214053514 \n",
      "\n",
      "train accuracy: 0.49990625\n",
      "loss on valid data: 17.029966983358964, accuracy on valid data: 0.505501375343836 \n",
      "\n",
      "train accuracy: 0.506296875\n",
      "loss on valid data: 17.418302366789934, accuracy on valid data: 0.49424856214053514 \n",
      "\n",
      "train accuracy: 0.49990625\n",
      "loss on valid data: 17.340898942428378, accuracy on valid data: 0.4964991247811953 \n",
      "\n",
      "train accuracy: 0.676875\n",
      "loss on valid data: 17.029978794636396, accuracy on valid data: 0.505501375343836 \n",
      "\n",
      "train accuracy: 0.502375\n",
      "loss on valid data: 17.41830780021992, accuracy on valid data: 0.49424856214053514 \n",
      "\n",
      "train accuracy: 0.49990625\n",
      "loss on valid data: 17.029980755945424, accuracy on valid data: 0.505501375343836 \n",
      "\n",
      "train accuracy: 0.5296640625\n",
      "loss on valid data: 17.418326246339426, accuracy on valid data: 0.49424856214053514 \n",
      "\n",
      "train accuracy: 0.49990625\n",
      "loss on valid data: 17.468329647587357, accuracy on valid data: 0.4928107026756689 \n",
      "\n",
      "train accuracy: 0.6306640625\n",
      "loss on valid data: 17.03027614084819, accuracy on valid data: 0.505501375343836 \n",
      "\n",
      "train accuracy: 0.50009375\n",
      "loss on valid data: 17.418513143821343, accuracy on valid data: 0.49424856214053514 \n",
      "\n",
      "train accuracy: 0.51209375\n",
      "loss on valid data: 17.03026405721588, accuracy on valid data: 0.505501375343836 \n",
      "\n",
      "train accuracy: 0.50403125\n",
      "loss on valid data: 17.418507025539537, accuracy on valid data: 0.49424856214053514 \n",
      "\n",
      "train accuracy: 0.5029296875"
     ]
    },
    {
     "name": "stderr",
     "output_type": "stream",
     "text": [
      "/tmp/ipykernel_310283/3563994809.py:9: RuntimeWarning: overflow encountered in exp\n",
      "  z = 1 / (1 + np.exp(-1 * np.dot(x, w)))\n"
     ]
    },
    {
     "name": "stdout",
     "output_type": "stream",
     "text": [
      "\n",
      "loss on valid data: 17.030265125408675, accuracy on valid data: 0.505501375343836 \n",
      "\n",
      "train accuracy: 0.52784375\n",
      "loss on valid data: 17.418528267144925, accuracy on valid data: 0.49424856214053514 \n",
      "\n",
      "train accuracy: 0.5026953125\n",
      "loss on valid data: 17.498843212294645, accuracy on valid data: 0.49193548387096775 \n",
      "\n",
      "train accuracy: 0.6651640625\n",
      "loss on valid data: 17.030443248717308, accuracy on valid data: 0.505501375343836 \n",
      "\n",
      "train accuracy: 0.5023828125\n",
      "loss on valid data: 17.418642165282037, accuracy on valid data: 0.49424856214053514 \n",
      "\n",
      "train accuracy: 0.51303125\n",
      "loss on valid data: 17.03043159739277, accuracy on valid data: 0.505501375343836 \n",
      "\n",
      "train accuracy: 0.512890625\n",
      "loss on valid data: 17.418642325018414, accuracy on valid data: 0.49424856214053514 \n",
      "\n",
      "train accuracy: 0.5034921875\n",
      "loss on valid data: 17.030442256449323, accuracy on valid data: 0.505501375343836 \n",
      "\n",
      "train accuracy: 0.5867265625\n",
      "loss on valid data: 17.41874595859161, accuracy on valid data: 0.49424856214053514 \n",
      "\n",
      "train accuracy: 0.5029296875\n",
      "loss on valid data: 17.445142426819427, accuracy on valid data: 0.4934983745936484 \n",
      "\n",
      "train accuracy: 0.6732421875\n",
      "loss on valid data: 17.030634841822078, accuracy on valid data: 0.505501375343836 \n",
      "\n",
      "train accuracy: 0.507796875\n",
      "loss on valid data: 17.41880032773879, accuracy on valid data: 0.49424856214053514 \n",
      "\n",
      "train accuracy: 0.512359375\n",
      "loss on valid data: 17.030629557429975, accuracy on valid data: 0.505501375343836 \n",
      "\n",
      "train accuracy: 0.5340234375\n",
      "loss on valid data: 17.418825724055555, accuracy on valid data: 0.49424856214053514 \n",
      "\n",
      "train accuracy: 0.5035859375\n",
      "loss on valid data: 17.404214699467495, accuracy on valid data: 0.49468617154288574 \n",
      "\n",
      "train accuracy: 0.6749375\n",
      "loss on valid data: 17.030713168733694, accuracy on valid data: 0.505501375343836 \n",
      "\n",
      "train accuracy: 0.5110703125\n",
      "loss on valid data: 17.418868348744844, accuracy on valid data: 0.49424856214053514 \n",
      "\n",
      "train accuracy: 0.51371875\n",
      "loss on valid data: 17.030710330927825, accuracy on valid data: 0.505501375343836 \n",
      "\n",
      "train accuracy: 0.5464765625\n",
      "loss on valid data: 17.41891248978839, accuracy on valid data: 0.49424856214053514 \n",
      "\n",
      "train accuracy: 0.5080078125\n",
      "loss on valid data: 17.50147870329113, accuracy on valid data: 0.4918729682420605 \n",
      "\n",
      "train accuracy: 0.6708203125\n",
      "loss on valid data: 17.030859438912163, accuracy on valid data: 0.505501375343836 \n",
      "\n",
      "train accuracy: 0.5101640625\n",
      "loss on valid data: 17.418990306877706, accuracy on valid data: 0.49424856214053514 \n",
      "\n",
      "train accuracy: 0.520796875\n",
      "loss on valid data: 17.030846105546352, accuracy on valid data: 0.505501375343836 \n",
      "\n",
      "train accuracy: 0.5373671875\n",
      "loss on valid data: 17.419014176231016, accuracy on valid data: 0.49424856214053514 \n",
      "\n"
     ]
    }
   ],
   "source": [
    "w = np.zeros(X_train.shape[1])\n",
    "train_losses = []\n",
    "valid_losses = []\n",
    "size = X_train.shape[0]\n",
    "n_epoch = 50\n",
    "lr = 1\n",
    "model = LogisticRegression()\n",
    "for epoch in range(n_epoch):\n",
    "    y_hat = model.sigmoid(w, X_train)\n",
    "    train_loss = model.compute_loss(y_hat, y_train) / size\n",
    "    gradient = (1 / size) * np.dot(X_train.T, (y_hat - y_train))\n",
    "    w = w - lr*gradient \n",
    "    train_losses.append(train_loss)\n",
    "    y_train_pred = y_hat >= 0.5\n",
    "    train_accuracy = (y_train_pred == y_train).sum() / np.shape(X_train)[0]\n",
    "    print(\"train accuracy: {}\".format(train_accuracy))\n",
    "    \n",
    "    y_valid_hat = model.sigmoid(w, X_valid)\n",
    "    valid_loss = model.compute_loss(y_valid_hat, y_valid) / X_valid.shape[0]\n",
    "    y_valid_pred = y_valid_hat >= 0.5\n",
    "    valid_losses.append(valid_loss)\n",
    "    valid_accuracy = (y_valid_pred == y_valid).sum() / np.shape(X_valid)[0]\n",
    "    print(\"loss on valid data: {}, accuracy on valid data: {} \\n\".format(valid_loss, valid_accuracy))"
   ]
  },
  {
   "cell_type": "code",
   "execution_count": 138,
   "id": "f25f6b59",
   "metadata": {},
   "outputs": [
    {
     "data": {
      "text/plain": [
       "[<matplotlib.lines.Line2D at 0x7fc1eaf2cca0>]"
      ]
     },
     "execution_count": 138,
     "metadata": {},
     "output_type": "execute_result"
    },
    {
     "data": {
      "image/png": "[encoded data removed]",
      "text/plain": [
       "<Figure size 432x288 with 1 Axes>"
      ]
     },
     "metadata": {
      "needs_background": "light"
     },
     "output_type": "display_data"
    }
   ],
   "source": [
    "plt.plot(train_losses)"
   ]
  },
  {
   "cell_type": "code",
   "execution_count": 139,
   "id": "c6b741b9",
   "metadata": {},
   "outputs": [
    {
     "data": {
      "text/plain": [
       "[<matplotlib.lines.Line2D at 0x7fc1eae17820>]"
      ]
     },
     "execution_count": 139,
     "metadata": {},
     "output_type": "execute_result"
    },
    {
     "data": {
      "image/png": "[encoded data removed]",
      "text/plain": [
       "<Figure size 432x288 with 1 Axes>"
      ]
     },
     "metadata": {
      "needs_background": "light"
     },
     "output_type": "display_data"
    }
   ],
   "source": [
    "plt.plot(valid_losses)"
   ]
  },
  {
   "cell_type": "code",
   "execution_count": null,
   "id": "84a8e1f9",
   "metadata": {},
   "outputs": [],
   "source": []
  }
 ],
 "metadata": {
  "kernelspec": {
   "display_name": "Python 3 (ipykernel)",
   "language": "python",
   "name": "python3"
  },
  "language_info": {
   "codemirror_mode": {
    "name": "ipython",
    "version": 3
   },
   "file_extension": ".py",
   "mimetype": "text/x-python",
   "name": "python",
   "nbconvert_exporter": "python",
   "pygments_lexer": "ipython3",
   "version": "3.9.7"
  }
 },
 "nbformat": 4,
 "nbformat_minor": 5
}
