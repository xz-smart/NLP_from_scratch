{
 "cells": [
  {
   "cell_type": "code",
   "execution_count": 1,
   "id": "8f7f904e",
   "metadata": {},
   "outputs": [
    {
     "name": "stderr",
     "output_type": "stream",
     "text": [
      "[nltk_data] Downloading package stopwords to /home/xz/nltk_data...\n",
      "[nltk_data]   Package stopwords is already up-to-date!\n",
      "[nltk_data] Downloading package punkt to /home/xz/nltk_data...\n",
      "[nltk_data]   Package punkt is already up-to-date!\n",
      "[nltk_data] Downloading package wordnet to /home/xz/nltk_data...\n",
      "[nltk_data]   Package wordnet is already up-to-date!\n",
      "[nltk_data] Downloading package omw-1.4 to /home/xz/nltk_data...\n",
      "[nltk_data]   Package omw-1.4 is already up-to-date!\n"
     ]
    },
    {
     "data": {
      "text/plain": [
       "True"
      ]
     },
     "execution_count": 1,
     "metadata": {},
     "output_type": "execute_result"
    }
   ],
   "source": [
    "import numpy as np\n",
    "import pandas as pd\n",
    "import seaborn as sns\n",
    "import nltk\n",
    "import string\n",
    "import matplotlib.pyplot as plt\n",
    "import sklearn\n",
    "nltk.download('stopwords')\n",
    "nltk.download('punkt')\n",
    "nltk.download('wordnet')\n",
    "nltk.download('omw-1.4')"
   ]
  },
  {
   "cell_type": "markdown",
   "id": "b78be6a3",
   "metadata": {},
   "source": [
    "# Data exploration"
   ]
  },
  {
   "cell_type": "code",
   "execution_count": 10,
   "id": "9116eec2",
   "metadata": {},
   "outputs": [],
   "source": [
    "# !mkdir -p data\n",
    "# !wget -nc https://nyc3.digitaloceanspaces.com/ml-files-distro/v1/sentiment-analysis-is-bad/data/training.1600000.processed.noemoticon.csv.zip -P data\n",
    "# !unzip -n -d data data/training.1600000.processed.noemoticon.csv.zip"
   ]
  },
  {
   "cell_type": "code",
   "execution_count": 8,
   "id": "870e9489",
   "metadata": {},
   "outputs": [],
   "source": [
    "df = pd.read_csv(\"../../../data/training.1600000.processed.noemoticon.csv\",\n",
    "                names=['targets', 'id', 'date', 'query', 'user', 'text'],\n",
    "                encoding='latin-1')"
   ]
  },
  {
   "cell_type": "code",
   "execution_count": 9,
   "id": "d98e5dcf",
   "metadata": {},
   "outputs": [],
   "source": [
    "df.targets.replace(4, 1, inplace=True)"
   ]
  },
  {
   "cell_type": "code",
   "execution_count": 10,
   "id": "6c44dce3",
   "metadata": {},
   "outputs": [],
   "source": [
    "df_sample = df.sample(frac=0.1, random_state=1)"
   ]
  },
  {
   "cell_type": "code",
   "execution_count": 11,
   "id": "9cf9b2eb",
   "metadata": {},
   "outputs": [
    {
     "data": {
      "text/plain": [
       "<AxesSubplot:xlabel='targets', ylabel='Count'>"
      ]
     },
     "execution_count": 11,
     "metadata": {},
     "output_type": "execute_result"
    },
    {
     "data": {
      "image/png": "[encoded data removed]",
      "text/plain": [
       "<Figure size 432x288 with 1 Axes>"
      ]
     },
     "metadata": {
      "needs_background": "light"
     },
     "output_type": "display_data"
    }
   ],
   "source": [
    "sns.histplot(df_sample, x='targets', binwidth = 0.2)"
   ]
  },
  {
   "cell_type": "markdown",
   "id": "f28f029c",
   "metadata": {},
   "source": [
    "# Train test split"
   ]
  },
  {
   "cell_type": "code",
   "execution_count": 12,
   "id": "9ec1f89f",
   "metadata": {},
   "outputs": [],
   "source": [
    "df_train = df_sample.sample(frac = 0.8, random_state = 1)\n",
    "df_valid = df_sample[~df_sample.id.isin(df_train.id)]\n",
    "df_test = df_valid.sample(frac = 0.5, random_state = 1)\n",
    "df_valid = df_valid[~df_valid.id.isin(df_test.id)]"
   ]
  },
  {
   "cell_type": "markdown",
   "id": "d4f083e1",
   "metadata": {},
   "source": [
    "# Data preprocessing\n",
    "* Eliminate handles and URLs\n",
    "\n",
    "* Tokenize the string into words.\n",
    "\n",
    "* Remove stop words like \"and, is, a, on, etc.\"\n",
    "\n",
    "* Stemming- or convert every word to its stem. Like dancer, dancing, danced, becomes 'danc'. You can use porter stemmer to take care of this.\n",
    "\n",
    "* Convert all your words to lower case."
   ]
  },
  {
   "cell_type": "code",
   "execution_count": 13,
   "id": "cb382818",
   "metadata": {},
   "outputs": [],
   "source": [
    "class TextProcesser():\n",
    "    def __init__(self,):\n",
    "        self.lem = nltk.stem.wordnet.WordNetLemmatizer() \n",
    "        self.stem = nltk.stem.porter.PorterStemmer()\n",
    "        self.stop_words = set(nltk.corpus.stopwords.words(\"english\"))\n",
    "        self.punctuations = list(string.punctuation)\n",
    "    def clean(self, text):\n",
    "        \"\"\"\n",
    "        tokenize a paragraph of text\n",
    "        remove the handles, URL, stop words\n",
    "        stem and lemmatize the words\n",
    "        convert words into lower cases\n",
    "        \"\"\"\n",
    "        tokens=nltk.tokenize.word_tokenize(text)\n",
    "        output = []\n",
    "        for token in tokens:\n",
    "            if (token not in self.stop_words) and (\"@\" not in token) and (\"//\" not in token) and (token not in self.punctuations):\n",
    "                \n",
    "                output.append(self.lem.lemmatize(self.stem.stem(token)).lower())\n",
    "        return output"
   ]
  },
  {
   "cell_type": "code",
   "execution_count": 14,
   "id": "dad44722",
   "metadata": {},
   "outputs": [],
   "source": [
    "text_processer = TextProcesser()"
   ]
  },
  {
   "cell_type": "code",
   "execution_count": 15,
   "id": "d5b8e29c",
   "metadata": {},
   "outputs": [],
   "source": [
    "df_cleaned_text = df_train.copy()\n",
    "df_cleaned_text['text'] = df_cleaned_text.text.apply(lambda x: text_processer.clean(x))"
   ]
  },
  {
   "cell_type": "code",
   "execution_count": 16,
   "id": "f2f5da54",
   "metadata": {},
   "outputs": [],
   "source": [
    "pos_words = np.concatenate(df_cleaned_text[df_cleaned_text.targets == 1].text.values).ravel()\n",
    "neg_words = np.concatenate(df_cleaned_text[df_cleaned_text.targets == 0].text.values).ravel()"
   ]
  },
  {
   "cell_type": "code",
   "execution_count": 17,
   "id": "91be3bfb",
   "metadata": {},
   "outputs": [],
   "source": [
    "def create_dict(words):\n",
    "    \"\"\"\n",
    "    calculate the frequency of words in a list of words\n",
    "    input: a list of words\n",
    "    output: dict, key: word; value: frequency\n",
    "    \"\"\"\n",
    "    output = {}\n",
    "    for word in words:\n",
    "        if word in output:\n",
    "            output[word] += 1\n",
    "        else:\n",
    "            output[word] = 1\n",
    "    return output"
   ]
  },
  {
   "cell_type": "code",
   "execution_count": 18,
   "id": "13ed62d2",
   "metadata": {},
   "outputs": [],
   "source": [
    "pos_dict = create_dict(pos_words)\n",
    "neg_dict = create_dict(neg_words)"
   ]
  },
  {
   "cell_type": "code",
   "execution_count": 19,
   "id": "9ffd00ae",
   "metadata": {},
   "outputs": [],
   "source": [
    "def sum_freq(text, pos_dict, neg_dict):\n",
    "    \"\"\"\n",
    "    count the frequency of positive and negtive words\n",
    "    \"\"\"\n",
    "    pos_freq, neg_freq = 0, 0\n",
    "    \n",
    "    for word in text:\n",
    "        if word in pos_dict:\n",
    "            pos_freq += pos_dict[word]\n",
    "        if word in neg_dict:\n",
    "            neg_freq += neg_dict[word]\n",
    "    return [1, pos_freq, neg_freq]"
   ]
  },
  {
   "cell_type": "code",
   "execution_count": 20,
   "id": "95feca22",
   "metadata": {},
   "outputs": [],
   "source": [
    "df_cleaned_text[\"vector\"] = df_cleaned_text.text.apply(lambda x: sum_freq(x, pos_dict, neg_dict))\n",
    "df_valid[\"vector\"] = df_valid.text.apply(lambda x: sum_freq(x, pos_dict, neg_dict))\n",
    "df_test[\"vector\"] = df_test.text.apply(lambda x: sum_freq(x, pos_dict, neg_dict))"
   ]
  },
  {
   "cell_type": "code",
   "execution_count": 21,
   "id": "c1098f70",
   "metadata": {},
   "outputs": [],
   "source": [
    "X_train, y_train = np.stack(df_cleaned_text.vector, axis = 0), np.array(df_cleaned_text.targets)\n",
    "X_valid, y_valid = np.stack(df_valid.vector, axis = 0), np.array(df_valid.targets)\n",
    "X_test, y_test = np.stack(df_test.vector, axis = 0), np.array(df_test.targets)"
   ]
  },
  {
   "cell_type": "markdown",
   "id": "b0c290f0",
   "metadata": {},
   "source": [
    "# Benchmark"
   ]
  },
  {
   "cell_type": "code",
   "execution_count": 25,
   "id": "57e2dd2e",
   "metadata": {},
   "outputs": [
    {
     "data": {
      "text/plain": [
       "(array([[ 1.03588297e-08,  2.74112287e-04, -2.11560646e-04]]),\n",
       " array([1.03588297e-08]))"
      ]
     },
     "execution_count": 25,
     "metadata": {},
     "output_type": "execute_result"
    }
   ],
   "source": [
    "model_baseline = sklearn.linear_model.LogisticRegression()\n",
    "clf = model_baseline.fit(X_train, y_train)\n",
    "clf.score(X_train, y_train)\n",
    "clf.coef_, clf.intercept_"
   ]
  },
  {
   "cell_type": "markdown",
   "id": "0e744877",
   "metadata": {},
   "source": [
    "# Logistic regression"
   ]
  },
  {
   "cell_type": "code",
   "execution_count": 23,
   "id": "bcb98982",
   "metadata": {},
   "outputs": [],
   "source": [
    "class LogisticRegression():\n",
    "    def compute_loss(self, y_hat, y):\n",
    "        \"binary cross entropy loss\"\n",
    "        epsilon = 1e-15\n",
    "        loss = -1 * np.dot(y, np.log(y_hat + epsilon)) - np.dot((1 - y), np.log(1 - y_hat + epsilon))\n",
    "        return np.mean(loss)\n",
    "    \n",
    "    def sigmoid(self, w, x):\n",
    "        z = 1 / (1 + np.exp(-1 * np.dot(x, w)))\n",
    "        return z\n",
    "    \n",
    "    def predict(self, y):\n",
    "        if y > 0.5:\n",
    "            return 1\n",
    "        else:\n",
    "            return 0"
   ]
  },
  {
   "cell_type": "code",
   "execution_count": 72,
   "id": "ebfa7cd7",
   "metadata": {},
   "outputs": [
    {
     "data": {
      "text/plain": [
       "array([[    1,  1175,  2910],\n",
       "       [    1,  8611,  9852],\n",
       "       [    1, 10642, 20219],\n",
       "       ...,\n",
       "       [    1, 23530, 32413],\n",
       "       [    1,  9229,  8149],\n",
       "       [    1, 32035, 42795]])"
      ]
     },
     "execution_count": 72,
     "metadata": {},
     "output_type": "execute_result"
    }
   ],
   "source": [
    "X_train"
   ]
  },
  {
   "cell_type": "code",
   "execution_count": 75,
   "id": "bb5e9076",
   "metadata": {},
   "outputs": [
    {
     "data": {
      "text/plain": [
       "array([1.00000000e+00, 1.79280339e+04, 2.27339643e+04])"
      ]
     },
     "execution_count": 75,
     "metadata": {},
     "output_type": "execute_result"
    }
   ],
   "source": [
    "np.mean(X_train_new, 0)"
   ]
  },
  {
   "cell_type": "code",
   "execution_count": 81,
   "id": "5f4e0c36",
   "metadata": {},
   "outputs": [],
   "source": [
    "X_train_new = X_train.copy()\n",
    "X_valid_new = X_valid.copy()"
   ]
  },
  {
   "cell_type": "code",
   "execution_count": 82,
   "id": "bbecc7a4",
   "metadata": {},
   "outputs": [
    {
     "name": "stdout",
     "output_type": "stream",
     "text": [
      "gradient: [0.24870198 0.44639779 0.48946338]\n",
      "train loss 1.2734878428150798\n",
      "loss on valid data: 0.7600760772416858, accuracy on valid data: 0.5098774693673418 \n",
      "\n",
      "gradient: [ 0.00082453 -0.01004628  0.00923885]\n",
      "train loss 0.6593214261077116\n",
      "loss on valid data: 0.6923895957051368, accuracy on valid data: 0.5186921730432608 \n",
      "\n",
      "gradient: [ 0.00059542 -0.00754108  0.00695003]\n",
      "train loss 0.645114090378657\n",
      "loss on valid data: 0.6919835688992284, accuracy on valid data: 0.5141910477619405 \n",
      "\n",
      "gradient: [ 0.00044213 -0.00578251  0.0053367 ]\n",
      "train loss 0.6369387484435174\n",
      "loss on valid data: 0.6919378670914652, accuracy on valid data: 0.5190672668167042 \n",
      "\n",
      "gradient: [ 0.00033641 -0.00451372  0.00416974]\n",
      "train loss 0.6320456460725077\n",
      "loss on valid data: 0.6920500106412056, accuracy on valid data: 0.517941985496374 \n",
      "\n",
      "gradient: [ 0.00026098 -0.00357315  0.00330316]\n",
      "train loss 0.6290220539245487\n",
      "loss on valid data: 0.6922256240354122, accuracy on valid data: 0.5171292823205802 \n",
      "\n",
      "gradient: [ 0.00020556 -0.00285977  0.00264508]\n",
      "train loss 0.6271063415768344\n",
      "loss on valid data: 0.6924192551020106, accuracy on valid data: 0.5174418604651163 \n",
      "\n",
      "gradient: [ 0.00016383 -0.00230857  0.00213614]\n",
      "train loss 0.625868588118112\n",
      "loss on valid data: 0.6926089728219703, accuracy on valid data: 0.5166916729182296 \n",
      "\n",
      "gradient: [ 0.00013179 -0.00187632  0.00173673]\n",
      "train loss 0.6250564674745173\n",
      "loss on valid data: 0.6927846614180877, accuracy on valid data: 0.5173168292073018 \n",
      "\n",
      "gradient: [ 0.0001068  -0.00153327  0.00141956]\n",
      "train loss 0.6245170741767764\n",
      "loss on valid data: 0.6929422920559697, accuracy on valid data: 0.5159414853713429 \n",
      "\n"
     ]
    }
   ],
   "source": [
    "w = np.random.rand(X_train.shape[1])\n",
    "X_train_new = X_train / np.mean(X_train, 0)\n",
    "X_valid_new = X_valid_new / np.mean(X_valid, 0)\n",
    "train_losses = []\n",
    "valid_losses = []\n",
    "size = X_train_new.shape[0]\n",
    "n_epoch = 1000\n",
    "lr = 1\n",
    "model = LogisticRegression()\n",
    "for epoch in range(n_epoch):\n",
    "    y_hat = model.sigmoid(w, X_train_new)\n",
    "#     print(y_hat.sum())\n",
    "    train_loss = model.compute_loss(y_hat, y_train) / size\n",
    "    gradient = (1 / size) * np.dot(X_train_new.T, (y_hat - y_train))\n",
    "    w = w - lr*gradient \n",
    "#     print(w)\n",
    "    train_losses.append(train_loss)\n",
    "    y_train_pred = y_hat >= 0.5\n",
    "    train_accuracy = (y_train_pred == y_train).sum() / np.shape(X_train_new)[0]\n",
    "    \n",
    "    \n",
    "    y_valid_hat = model.sigmoid(w, X_valid_new)\n",
    "    valid_loss = model.compute_loss(y_valid_hat, y_valid) / X_valid_new.shape[0]\n",
    "    y_valid_pred = y_valid_hat >= 0.5\n",
    "    valid_losses.append(valid_loss)\n",
    "    valid_accuracy = (y_valid_pred == y_valid).sum() / np.shape(X_valid_new)[0]\n",
    "    if (epoch % 100) == 0:\n",
    "        print(f'gradient: {gradient}')\n",
    "#         print(\"train accuracy: {}\".format(train_accuracy))\n",
    "        print(f'train loss {train_loss}')\n",
    "        print(\"loss on valid data: {}, accuracy on valid data: {} \\n\".format(valid_loss, valid_accuracy))"
   ]
  },
  {
   "cell_type": "code",
   "execution_count": 83,
   "id": "f25f6b59",
   "metadata": {},
   "outputs": [
    {
     "data": {
      "text/plain": [
       "[<matplotlib.lines.Line2D at 0x7f5d54e18700>]"
      ]
     },
     "execution_count": 83,
     "metadata": {},
     "output_type": "execute_result"
    },
    {
     "data": {
      "image/png": "[encoded data removed]",
      "text/plain": [
       "<Figure size 432x288 with 1 Axes>"
      ]
     },
     "metadata": {
      "needs_background": "light"
     },
     "output_type": "display_data"
    }
   ],
   "source": [
    "plt.plot(train_losses)"
   ]
  },
  {
   "cell_type": "code",
   "execution_count": 84,
   "id": "c6b741b9",
   "metadata": {},
   "outputs": [
    {
     "data": {
      "text/plain": [
       "[<matplotlib.lines.Line2D at 0x7f5d54bebb80>]"
      ]
     },
     "execution_count": 84,
     "metadata": {},
     "output_type": "execute_result"
    },
    {
     "data": {
      "image/png": "[encoded data removed]",
      "text/plain": [
       "<Figure size 432x288 with 1 Axes>"
      ]
     },
     "metadata": {
      "needs_background": "light"
     },
     "output_type": "display_data"
    }
   ],
   "source": [
    "plt.plot(valid_losses)"
   ]
  },
  {
   "cell_type": "code",
   "execution_count": null,
   "id": "a7c9abb1",
   "metadata": {},
   "outputs": [],
   "source": []
  }
 ],
 "metadata": {
  "kernelspec": {
   "display_name": "Python 3 (ipykernel)",
   "language": "python",
   "name": "python3"
  },
  "language_info": {
   "codemirror_mode": {
    "name": "ipython",
    "version": 3
   },
   "file_extension": ".py",
   "mimetype": "text/x-python",
   "name": "python",
   "nbconvert_exporter": "python",
   "pygments_lexer": "ipython3",
   "version": "3.9.7"
  }
 },
 "nbformat": 4,
 "nbformat_minor": 5
}
