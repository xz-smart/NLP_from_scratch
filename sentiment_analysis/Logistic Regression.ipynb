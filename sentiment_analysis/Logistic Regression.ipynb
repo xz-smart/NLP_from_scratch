{
 "cells": [
  {
   "cell_type": "code",
   "execution_count": 1,
   "id": "8f7f904e",
   "metadata": {},
   "outputs": [
    {
     "name": "stderr",
     "output_type": "stream",
     "text": [
      "[nltk_data] Downloading package stopwords to /home/xz/nltk_data...\n",
      "[nltk_data]   Package stopwords is already up-to-date!\n",
      "[nltk_data] Downloading package punkt to /home/xz/nltk_data...\n",
      "[nltk_data]   Package punkt is already up-to-date!\n",
      "[nltk_data] Downloading package wordnet to /home/xz/nltk_data...\n",
      "[nltk_data]   Package wordnet is already up-to-date!\n",
      "[nltk_data] Downloading package omw-1.4 to /home/xz/nltk_data...\n",
      "[nltk_data]   Package omw-1.4 is already up-to-date!\n"
     ]
    }
   ],
   "source": [
    "import numpy as np\n",
    "import pandas as pd\n",
    "import seaborn as sns\n",
    "import nltk\n",
    "import string\n",
    "import matplotlib.pyplot as plt\n",
    "import sklearn\n",
    "import os\n",
    "from text_processor import TextProcessor\n",
    "import utils"
   ]
  },
  {
   "cell_type": "markdown",
   "id": "b78be6a3",
   "metadata": {},
   "source": [
    "# Data exploration"
   ]
  },
  {
   "cell_type": "code",
   "execution_count": 2,
   "id": "870e9489",
   "metadata": {},
   "outputs": [],
   "source": [
    "df = pd.read_csv(\"../../../data/training.1600000.processed.noemoticon.csv\",\n",
    "                names=['targets', 'id', 'date', 'query', 'user', 'text'],\n",
    "                encoding='latin-1')"
   ]
  },
  {
   "cell_type": "code",
   "execution_count": 3,
   "id": "d98e5dcf",
   "metadata": {},
   "outputs": [],
   "source": [
    "df.targets.replace(4, 1, inplace=True)"
   ]
  },
  {
   "cell_type": "code",
   "execution_count": 4,
   "id": "6c44dce3",
   "metadata": {},
   "outputs": [],
   "source": [
    "df_sample = df.sample(frac=0.1, random_state=1)"
   ]
  },
  {
   "cell_type": "code",
   "execution_count": 5,
   "id": "9cf9b2eb",
   "metadata": {},
   "outputs": [
    {
     "data": {
      "text/plain": [
       "<AxesSubplot:xlabel='targets', ylabel='Count'>"
      ]
     },
     "execution_count": 5,
     "metadata": {},
     "output_type": "execute_result"
    },
    {
     "data": {
      "image/png": "[encoded data removed]",
      "text/plain": [
       "<Figure size 432x288 with 1 Axes>"
      ]
     },
     "metadata": {
      "needs_background": "light"
     },
     "output_type": "display_data"
    }
   ],
   "source": [
    "sns.histplot(df_sample, x='targets', binwidth = 0.2)"
   ]
  },
  {
   "cell_type": "markdown",
   "id": "f28f029c",
   "metadata": {},
   "source": [
    "# Train test split"
   ]
  },
  {
   "cell_type": "code",
   "execution_count": 6,
   "id": "9ec1f89f",
   "metadata": {},
   "outputs": [],
   "source": [
    "df_train = df_sample.sample(frac = 0.8, random_state = 1)\n",
    "df_valid = df_sample[~df_sample.id.isin(df_train.id)]\n",
    "df_test = df_valid.sample(frac = 0.5, random_state = 1)\n",
    "df_valid = df_valid[~df_valid.id.isin(df_test.id)]"
   ]
  },
  {
   "cell_type": "markdown",
   "id": "d4f083e1",
   "metadata": {},
   "source": [
    "# Data preprocessing\n",
    "* Eliminate handles and URLs\n",
    "\n",
    "* Tokenize the string into words.\n",
    "\n",
    "* Remove stop words like \"and, is, a, on, etc.\"\n",
    "\n",
    "* Stemming- or convert every word to its stem. Like dancer, dancing, danced, becomes 'danc'. You can use porter stemmer to take care of this.\n",
    "\n",
    "* Convert all your words to lower case."
   ]
  },
  {
   "cell_type": "code",
   "execution_count": 7,
   "id": "dad44722",
   "metadata": {},
   "outputs": [],
   "source": [
    "text_processer = TextProcessor()"
   ]
  },
  {
   "cell_type": "code",
   "execution_count": 8,
   "id": "d5b8e29c",
   "metadata": {},
   "outputs": [],
   "source": [
    "df_cleaned_text = df_train.copy()\n",
    "df_cleaned_text['text'] = df_cleaned_text.text.apply(lambda x: text_processer.clean(x))"
   ]
  },
  {
   "cell_type": "code",
   "execution_count": 9,
   "id": "f2f5da54",
   "metadata": {},
   "outputs": [],
   "source": [
    "pos_words = np.concatenate(df_cleaned_text[df_cleaned_text.targets == 1].text.values).ravel()\n",
    "neg_words = np.concatenate(df_cleaned_text[df_cleaned_text.targets == 0].text.values).ravel()"
   ]
  },
  {
   "cell_type": "code",
   "execution_count": 10,
   "id": "13ed62d2",
   "metadata": {},
   "outputs": [],
   "source": [
    "pos_dict = utils.create_dict(pos_words)\n",
    "neg_dict = utils.create_dict(neg_words)"
   ]
  },
  {
   "cell_type": "code",
   "execution_count": 11,
   "id": "9ffd00ae",
   "metadata": {},
   "outputs": [],
   "source": [
    "def sum_freq(text, pos_dict, neg_dict):\n",
    "    \"\"\"\n",
    "    count the frequency of positive and negtive words\n",
    "    \"\"\"\n",
    "    pos_freq, neg_freq = 0, 0\n",
    "    \n",
    "    for word in text:\n",
    "        if word in pos_dict:\n",
    "            pos_freq += pos_dict[word]\n",
    "        if word in neg_dict:\n",
    "            neg_freq += neg_dict[word]\n",
    "    return [1, pos_freq, neg_freq]"
   ]
  },
  {
   "cell_type": "code",
   "execution_count": 12,
   "id": "95feca22",
   "metadata": {},
   "outputs": [],
   "source": [
    "df_cleaned_text[\"vector\"] = df_cleaned_text.text.apply(lambda x: sum_freq(x, pos_dict, neg_dict))\n",
    "df_valid[\"vector\"] = df_valid.text.apply(lambda x: sum_freq(x, pos_dict, neg_dict))\n",
    "df_test[\"vector\"] = df_test.text.apply(lambda x: sum_freq(x, pos_dict, neg_dict))"
   ]
  },
  {
   "cell_type": "code",
   "execution_count": 13,
   "id": "c1098f70",
   "metadata": {},
   "outputs": [],
   "source": [
    "X_train, y_train = np.stack(df_cleaned_text.vector, axis = 0), np.array(df_cleaned_text.targets)\n",
    "X_valid, y_valid = np.stack(df_valid.vector, axis = 0), np.array(df_valid.targets)\n",
    "X_test, y_test = np.stack(df_test.vector, axis = 0), np.array(df_test.targets)"
   ]
  },
  {
   "cell_type": "markdown",
   "id": "b0c290f0",
   "metadata": {},
   "source": [
    "# Benchmark"
   ]
  },
  {
   "cell_type": "code",
   "execution_count": 22,
   "id": "57e2dd2e",
   "metadata": {},
   "outputs": [
    {
     "data": {
      "text/plain": [
       "0.67565625"
      ]
     },
     "execution_count": 22,
     "metadata": {},
     "output_type": "execute_result"
    }
   ],
   "source": [
    "model_baseline = sklearn.linear_model.LogisticRegression()\n",
    "clf = model_baseline.fit(X_train, y_train)\n",
    "clf.score(X_train, y_train)"
   ]
  },
  {
   "cell_type": "markdown",
   "id": "0e744877",
   "metadata": {},
   "source": [
    "# Logistic regression"
   ]
  },
  {
   "cell_type": "code",
   "execution_count": 15,
   "id": "bcb98982",
   "metadata": {},
   "outputs": [],
   "source": [
    "class LogisticRegression():\n",
    "    def compute_loss(self, y_hat, y):\n",
    "        \"binary cross entropy loss\"\n",
    "        epsilon = 1e-15\n",
    "        loss = -1 * np.dot(y, np.log(y_hat + epsilon)) - np.dot((1 - y), np.log(1 - y_hat + epsilon))\n",
    "        return np.mean(loss)\n",
    "    \n",
    "    def sigmoid(self, w, x):\n",
    "        z = 1 / (1 + np.exp(-1 * np.dot(x, w)))\n",
    "        return z\n",
    "    \n",
    "    def predict(self, y):\n",
    "        if y > 0.5:\n",
    "            return 1\n",
    "        else:\n",
    "            return 0"
   ]
  },
  {
   "cell_type": "code",
   "execution_count": 16,
   "id": "ebfa7cd7",
   "metadata": {},
   "outputs": [
    {
     "data": {
      "text/plain": [
       "array([[    1,  1175,  2910],\n",
       "       [    1,  8611,  9852],\n",
       "       [    1, 10642, 20219],\n",
       "       ...,\n",
       "       [    1, 23530, 32413],\n",
       "       [    1,  9229,  8149],\n",
       "       [    1, 32035, 42795]])"
      ]
     },
     "execution_count": 16,
     "metadata": {},
     "output_type": "execute_result"
    }
   ],
   "source": [
    "X_train"
   ]
  },
  {
   "cell_type": "code",
   "execution_count": 18,
   "id": "5f4e0c36",
   "metadata": {},
   "outputs": [],
   "source": [
    "X_train_new = X_train.copy()\n",
    "X_valid_new = X_valid.copy()"
   ]
  },
  {
   "cell_type": "code",
   "execution_count": 21,
   "id": "bbecc7a4",
   "metadata": {},
   "outputs": [
    {
     "name": "stdout",
     "output_type": "stream",
     "text": [
      "loss on train data: 0.9146174460984451, accuracy on train data: 0.50009375\n",
      "loss on valid data: 0.6931928956200668, accuracy on valid data: 0.505501375343836 \n",
      "\n",
      "loss on train data: 0.657926816804471, accuracy on train data: 0.6226953125\n",
      "loss on valid data: 0.693615487446672, accuracy on valid data: 0.505501375343836 \n",
      "\n",
      "loss on train data: 0.6443257433706672, accuracy on train data: 0.663328125\n",
      "loss on valid data: 0.6930880344721692, accuracy on valid data: 0.505501375343836 \n",
      "\n",
      "loss on train data: 0.636474080518771, accuracy on train data: 0.6669296875\n",
      "loss on valid data: 0.6934442373050729, accuracy on valid data: 0.49449862465616407 \n",
      "\n",
      "loss on train data: 0.6317620022740139, accuracy on train data: 0.6627109375\n",
      "loss on valid data: 0.694127483570294, accuracy on valid data: 0.49449862465616407 \n",
      "\n",
      "loss on train data: 0.6288440575625958, accuracy on train data: 0.6604609375\n",
      "loss on valid data: 0.6948957579059007, accuracy on valid data: 0.49449862465616407 \n",
      "\n",
      "loss on train data: 0.6269922022189225, accuracy on train data: 0.659046875\n",
      "loss on valid data: 0.6956440129573772, accuracy on valid data: 0.49449862465616407 \n",
      "\n",
      "loss on train data: 0.6257941448889934, accuracy on train data: 0.6583359375\n",
      "loss on valid data: 0.6963290624807748, accuracy on valid data: 0.49449862465616407 \n",
      "\n",
      "loss on train data: 0.6250072591383582, accuracy on train data: 0.6579921875\n",
      "loss on valid data: 0.6969364361310979, accuracy on valid data: 0.49449862465616407 \n",
      "\n",
      "loss on train data: 0.6244841970155346, accuracy on train data: 0.6572890625\n",
      "loss on valid data: 0.6974650555137949, accuracy on valid data: 0.49449862465616407 \n",
      "\n"
     ]
    }
   ],
   "source": [
    "w = np.random.rand(X_train.shape[1])\n",
    "X_train_new = X_train / np.mean(X_train, 0)\n",
    "X_valid_new = X_valid_new / np.mean(X_valid, 0)\n",
    "train_losses = []\n",
    "valid_losses = []\n",
    "size = X_train_new.shape[0]\n",
    "n_epoch = 1000\n",
    "lr = 1\n",
    "model = LogisticRegression()\n",
    "for epoch in range(n_epoch):\n",
    "    y_hat = model.sigmoid(w, X_train_new)\n",
    "#     print(y_hat.sum())\n",
    "    train_loss = model.compute_loss(y_hat, y_train) / size\n",
    "    gradient = (1 / size) * np.dot(X_train_new.T, (y_hat - y_train))\n",
    "    w = w - lr*gradient \n",
    "#     print(w)\n",
    "    train_losses.append(train_loss)\n",
    "    y_train_pred = y_hat >= 0.5\n",
    "    train_accuracy = (y_train_pred == y_train).sum() / np.shape(X_train_new)[0]\n",
    "    \n",
    "    \n",
    "    y_valid_hat = model.sigmoid(w, X_valid_new)\n",
    "    valid_loss = model.compute_loss(y_valid_hat, y_valid) / X_valid_new.shape[0]\n",
    "    y_valid_pred = y_valid_hat >= 0.5\n",
    "    valid_losses.append(valid_loss)\n",
    "    valid_accuracy = (y_valid_pred == y_valid).sum() / np.shape(X_valid_new)[0]\n",
    "    if (epoch % 100) == 0:\n",
    "#         print(\"train accuracy: {}\".format(train_accuracy))\n",
    "        print(\"loss on train data: {}, accuracy on train data: {}\".format(train_loss, train_accuracy))\n",
    "        print(\"loss on valid data: {}, accuracy on valid data: {} \\n\".format(valid_loss, valid_accuracy))"
   ]
  },
  {
   "cell_type": "code",
   "execution_count": 23,
   "id": "f25f6b59",
   "metadata": {},
   "outputs": [
    {
     "data": {
      "text/plain": [
       "[<matplotlib.lines.Line2D at 0x7f75bd90be20>]"
      ]
     },
     "execution_count": 23,
     "metadata": {},
     "output_type": "execute_result"
    },
    {
     "data": {
      "image/png": "[encoded data removed]",
      "text/plain": [
       "<Figure size 432x288 with 1 Axes>"
      ]
     },
     "metadata": {
      "needs_background": "light"
     },
     "output_type": "display_data"
    }
   ],
   "source": [
    "plt.plot(train_losses)"
   ]
  },
  {
   "cell_type": "code",
   "execution_count": 24,
   "id": "c6b741b9",
   "metadata": {},
   "outputs": [
    {
     "data": {
      "text/plain": [
       "[<matplotlib.lines.Line2D at 0x7f75bd0147f0>]"
      ]
     },
     "execution_count": 24,
     "metadata": {},
     "output_type": "execute_result"
    },
    {
     "data": {
      "image/png": "[encoded data removed]",
      "text/plain": [
       "<Figure size 432x288 with 1 Axes>"
      ]
     },
     "metadata": {
      "needs_background": "light"
     },
     "output_type": "display_data"
    }
   ],
   "source": [
    "plt.plot(valid_losses)"
   ]
  },
  {
   "cell_type": "code",
   "execution_count": null,
   "id": "a7c9abb1",
   "metadata": {},
   "outputs": [],
   "source": []
  }
 ],
 "metadata": {
  "kernelspec": {
   "display_name": "Python 3 (ipykernel)",
   "language": "python",
   "name": "python3"
  },
  "language_info": {
   "codemirror_mode": {
    "name": "ipython",
    "version": 3
   },
   "file_extension": ".py",
   "mimetype": "text/x-python",
   "name": "python",
   "nbconvert_exporter": "python",
   "pygments_lexer": "ipython3",
   "version": "3.9.7"
  }
 },
 "nbformat": 4,
 "nbformat_minor": 5
}
